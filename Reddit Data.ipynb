{
 "cells": [
  {
   "cell_type": "markdown",
   "metadata": {},
   "source": [
    "# Imports"
   ]
  },
  {
   "cell_type": "code",
   "execution_count": 319,
   "metadata": {},
   "outputs": [],
   "source": [
    "import pandas\n",
    "\n",
    "from sklearn.ensemble import RandomForestRegressor\n",
    "from sklearn.datasets import make_regression\n",
    "from sklearn.feature_extraction.text import  CountVectorizer\n",
    "from sklearn.model_selection import train_test_split\n",
    "from sklearn.metrics import accuracy_score\n",
    "from sklearn.feature_extraction.text import TfidfVectorizer\n",
    "from sklearn.metrics import confusion_matrix\n",
    "\n",
    "import os\n",
    "import requests\n",
    "import json\n",
    "import numpy as np\n",
    "import pandas as pd\n",
    "import tensorflow as tf\n",
    "import tensorflow.keras.backend as K\n",
    "import matplotlib.pyplot as plt\n",
    "import seaborn as sns\n",
    "\n",
    "from sklearn.model_selection import train_test_split\n",
    "from sklearn.metrics import confusion_matrix\n",
    "from sklearn.preprocessing import StandardScaler\n",
    "from tensorflow.keras.preprocessing.text import Tokenizer\n",
    "from tensorflow.keras.preprocessing.sequence import pad_sequences\n",
    "from tensorflow.keras.layers import Dense, Input, GlobalMaxPooling1D, Conv1D, MaxPooling1D, Embedding, LSTM, Dropout\n",
    "from tensorflow.keras.models import Model, load_model\n",
    "from tensorflow.keras.initializers import Constant\n",
    "\n",
    "# Display Options\n",
    "pd.options.display.float_format = '{:,.2f}'.format\n",
    "\n",
    "#Variables\n",
    "MAX_SEQUENCE_LENGTH = 700\n",
    "MAX_NUM_WORDS = 10000\n",
    "EMBEDDING_DIM = 100"
   ]
  },
  {
   "cell_type": "code",
   "execution_count": 320,
   "metadata": {},
   "outputs": [],
   "source": [
    "dataset = pandas.read_csv('askscience_data.csv')"
   ]
  },
  {
   "cell_type": "markdown",
   "metadata": {},
   "source": [
    "# EDA"
   ]
  },
  {
   "cell_type": "code",
   "execution_count": 321,
   "metadata": {},
   "outputs": [
    {
     "data": {
      "text/html": [
       "<div>\n",
       "<style scoped>\n",
       "    .dataframe tbody tr th:only-of-type {\n",
       "        vertical-align: middle;\n",
       "    }\n",
       "\n",
       "    .dataframe tbody tr th {\n",
       "        vertical-align: top;\n",
       "    }\n",
       "\n",
       "    .dataframe thead th {\n",
       "        text-align: right;\n",
       "    }\n",
       "</style>\n",
       "<table border=\"1\" class=\"dataframe\">\n",
       "  <thead>\n",
       "    <tr style=\"text-align: right;\">\n",
       "      <th></th>\n",
       "      <th>Unnamed: 0</th>\n",
       "      <th>title</th>\n",
       "      <th>body</th>\n",
       "      <th>tag</th>\n",
       "      <th>datetime</th>\n",
       "      <th>author</th>\n",
       "      <th>score</th>\n",
       "      <th>upvote_ratio</th>\n",
       "      <th>url</th>\n",
       "    </tr>\n",
       "  </thead>\n",
       "  <tbody>\n",
       "    <tr>\n",
       "      <th>0</th>\n",
       "      <td>0</td>\n",
       "      <td>Post viral cough: why does it get worse after ...</td>\n",
       "      <td>Tl;dr: why is your cough during an upper respi...</td>\n",
       "      <td>Human Body</td>\n",
       "      <td>2022-12-09 02:52:07</td>\n",
       "      <td>CarboniferousCreek</td>\n",
       "      <td>1,343.00</td>\n",
       "      <td>0.93</td>\n",
       "      <td>https://www.reddit.com/r/askscience/comments/z...</td>\n",
       "    </tr>\n",
       "    <tr>\n",
       "      <th>1</th>\n",
       "      <td>1</td>\n",
       "      <td>Can an x-ray of an adult show chronic malnouri...</td>\n",
       "      <td>If a person was chronically undernourished thr...</td>\n",
       "      <td>Human Body</td>\n",
       "      <td>2022-12-08 18:28:51</td>\n",
       "      <td>Foxs-In-A-Trenchcoat</td>\n",
       "      <td>426.00</td>\n",
       "      <td>0.91</td>\n",
       "      <td>https://www.reddit.com/r/askscience/comments/z...</td>\n",
       "    </tr>\n",
       "    <tr>\n",
       "      <th>2</th>\n",
       "      <td>2</td>\n",
       "      <td>[META] Bots and AI tools on r/askscience</td>\n",
       "      <td>\\n\\nOver the past few days we have seen a sur...</td>\n",
       "      <td>META</td>\n",
       "      <td>2022-12-08 09:04:25</td>\n",
       "      <td>AskScienceModerator</td>\n",
       "      <td>2,218.00</td>\n",
       "      <td>0.92</td>\n",
       "      <td>https://www.reddit.com/r/askscience/comments/z...</td>\n",
       "    </tr>\n",
       "    <tr>\n",
       "      <th>3</th>\n",
       "      <td>3</td>\n",
       "      <td>Can you predictably manipulate a magnetic gas?</td>\n",
       "      <td>Does there exist a gas that changes in respons...</td>\n",
       "      <td>Physics</td>\n",
       "      <td>2022-12-08 20:01:53</td>\n",
       "      <td>hufsa7</td>\n",
       "      <td>48.00</td>\n",
       "      <td>0.83</td>\n",
       "      <td>https://www.reddit.com/r/askscience/comments/z...</td>\n",
       "    </tr>\n",
       "    <tr>\n",
       "      <th>4</th>\n",
       "      <td>4</td>\n",
       "      <td>Are there cells in humans (or other mammals) t...</td>\n",
       "      <td>NaN</td>\n",
       "      <td>Medicine</td>\n",
       "      <td>2022-12-09 01:11:34</td>\n",
       "      <td>Velym</td>\n",
       "      <td>14.00</td>\n",
       "      <td>0.89</td>\n",
       "      <td>https://www.reddit.com/r/askscience/comments/z...</td>\n",
       "    </tr>\n",
       "  </tbody>\n",
       "</table>\n",
       "</div>"
      ],
      "text/plain": [
       "   Unnamed: 0                                              title  \\\n",
       "0           0  Post viral cough: why does it get worse after ...   \n",
       "1           1  Can an x-ray of an adult show chronic malnouri...   \n",
       "2           2           [META] Bots and AI tools on r/askscience   \n",
       "3           3     Can you predictably manipulate a magnetic gas?   \n",
       "4           4  Are there cells in humans (or other mammals) t...   \n",
       "\n",
       "                                                body         tag  \\\n",
       "0  Tl;dr: why is your cough during an upper respi...  Human Body   \n",
       "1  If a person was chronically undernourished thr...  Human Body   \n",
       "2   \\n\\nOver the past few days we have seen a sur...        META   \n",
       "3  Does there exist a gas that changes in respons...     Physics   \n",
       "4                                                NaN    Medicine   \n",
       "\n",
       "              datetime                author    score  upvote_ratio  \\\n",
       "0  2022-12-09 02:52:07    CarboniferousCreek 1,343.00          0.93   \n",
       "1  2022-12-08 18:28:51  Foxs-In-A-Trenchcoat   426.00          0.91   \n",
       "2  2022-12-08 09:04:25   AskScienceModerator 2,218.00          0.92   \n",
       "3  2022-12-08 20:01:53                hufsa7    48.00          0.83   \n",
       "4  2022-12-09 01:11:34                 Velym    14.00          0.89   \n",
       "\n",
       "                                                 url  \n",
       "0  https://www.reddit.com/r/askscience/comments/z...  \n",
       "1  https://www.reddit.com/r/askscience/comments/z...  \n",
       "2  https://www.reddit.com/r/askscience/comments/z...  \n",
       "3  https://www.reddit.com/r/askscience/comments/z...  \n",
       "4  https://www.reddit.com/r/askscience/comments/z...  "
      ]
     },
     "execution_count": 321,
     "metadata": {},
     "output_type": "execute_result"
    }
   ],
   "source": [
    "dataset.head()"
   ]
  },
  {
   "cell_type": "code",
   "execution_count": 322,
   "metadata": {},
   "outputs": [
    {
     "data": {
      "text/html": [
       "<div>\n",
       "<style scoped>\n",
       "    .dataframe tbody tr th:only-of-type {\n",
       "        vertical-align: middle;\n",
       "    }\n",
       "\n",
       "    .dataframe tbody tr th {\n",
       "        vertical-align: top;\n",
       "    }\n",
       "\n",
       "    .dataframe thead th {\n",
       "        text-align: right;\n",
       "    }\n",
       "</style>\n",
       "<table border=\"1\" class=\"dataframe\">\n",
       "  <thead>\n",
       "    <tr style=\"text-align: right;\">\n",
       "      <th></th>\n",
       "      <th>Unnamed: 0</th>\n",
       "      <th>score</th>\n",
       "      <th>upvote_ratio</th>\n",
       "    </tr>\n",
       "  </thead>\n",
       "  <tbody>\n",
       "    <tr>\n",
       "      <th>count</th>\n",
       "      <td>4,205.00</td>\n",
       "      <td>4,205.00</td>\n",
       "      <td>4,205.00</td>\n",
       "    </tr>\n",
       "    <tr>\n",
       "      <th>mean</th>\n",
       "      <td>1,404.25</td>\n",
       "      <td>3,730.47</td>\n",
       "      <td>0.77</td>\n",
       "    </tr>\n",
       "    <tr>\n",
       "      <th>std</th>\n",
       "      <td>815.52</td>\n",
       "      <td>5,577.61</td>\n",
       "      <td>0.18</td>\n",
       "    </tr>\n",
       "    <tr>\n",
       "      <th>min</th>\n",
       "      <td>0.00</td>\n",
       "      <td>0.00</td>\n",
       "      <td>0.17</td>\n",
       "    </tr>\n",
       "    <tr>\n",
       "      <th>25%</th>\n",
       "      <td>676.00</td>\n",
       "      <td>4.00</td>\n",
       "      <td>0.59</td>\n",
       "    </tr>\n",
       "    <tr>\n",
       "      <th>50%</th>\n",
       "      <td>1,491.00</td>\n",
       "      <td>35.00</td>\n",
       "      <td>0.84</td>\n",
       "    </tr>\n",
       "    <tr>\n",
       "      <th>75%</th>\n",
       "      <td>2,136.00</td>\n",
       "      <td>7,472.00</td>\n",
       "      <td>0.92</td>\n",
       "    </tr>\n",
       "    <tr>\n",
       "      <th>max</th>\n",
       "      <td>2,735.00</td>\n",
       "      <td>83,382.00</td>\n",
       "      <td>1.00</td>\n",
       "    </tr>\n",
       "  </tbody>\n",
       "</table>\n",
       "</div>"
      ],
      "text/plain": [
       "       Unnamed: 0     score  upvote_ratio\n",
       "count    4,205.00  4,205.00      4,205.00\n",
       "mean     1,404.25  3,730.47          0.77\n",
       "std        815.52  5,577.61          0.18\n",
       "min          0.00      0.00          0.17\n",
       "25%        676.00      4.00          0.59\n",
       "50%      1,491.00     35.00          0.84\n",
       "75%      2,136.00  7,472.00          0.92\n",
       "max      2,735.00 83,382.00          1.00"
      ]
     },
     "execution_count": 322,
     "metadata": {},
     "output_type": "execute_result"
    }
   ],
   "source": [
    "dataset.describe()"
   ]
  },
  {
   "cell_type": "code",
   "execution_count": 323,
   "metadata": {},
   "outputs": [
    {
     "name": "stdout",
     "output_type": "stream",
     "text": [
      "<class 'pandas.core.frame.DataFrame'>\n",
      "RangeIndex: 4205 entries, 0 to 4204\n",
      "Data columns (total 9 columns):\n",
      " #   Column        Non-Null Count  Dtype  \n",
      "---  ------        --------------  -----  \n",
      " 0   Unnamed: 0    4205 non-null   int64  \n",
      " 1   title         4205 non-null   object \n",
      " 2   body          2492 non-null   object \n",
      " 3   tag           4011 non-null   object \n",
      " 4   datetime      4205 non-null   object \n",
      " 5   author        4205 non-null   object \n",
      " 6   score         4205 non-null   float64\n",
      " 7   upvote_ratio  4205 non-null   float64\n",
      " 8   url           4205 non-null   object \n",
      "dtypes: float64(2), int64(1), object(6)\n",
      "memory usage: 295.8+ KB\n"
     ]
    }
   ],
   "source": [
    "dataset.info()"
   ]
  },
  {
   "cell_type": "code",
   "execution_count": 324,
   "metadata": {},
   "outputs": [
    {
     "name": "stderr",
     "output_type": "stream",
     "text": [
      "<ipython-input-324-9b6eb8eeedc6>:5: UserWarning: \n",
      "\n",
      "`distplot` is a deprecated function and will be removed in seaborn v0.14.0.\n",
      "\n",
      "Please adapt your code to use either `displot` (a figure-level function with\n",
      "similar flexibility) or `histplot` (an axes-level function for histograms).\n",
      "\n",
      "For a guide to updating your code to use the new functions, please see\n",
      "https://gist.github.com/mwaskom/de44147ed2974457ad6372750bbe5751\n",
      "\n",
      "  sns.distplot(scores);\n"
     ]
    },
    {
     "data": {
      "image/png": "[encoded data removed]",
      "text/plain": [
       "<Figure size 1080x360 with 1 Axes>"
      ]
     },
     "metadata": {
      "needs_background": "light"
     },
     "output_type": "display_data"
    }
   ],
   "source": [
    "scaler = StandardScaler()\n",
    "scores = scaler.fit_transform(dataset.score.values.reshape(-1,1))\n",
    "\n",
    "plt.figure(figsize=(15, 5))\n",
    "sns.distplot(scores);"
   ]
  },
  {
   "cell_type": "markdown",
   "metadata": {},
   "source": [
    "# attributes of a successful post"
   ]
  },
  {
   "cell_type": "code",
   "execution_count": 325,
   "metadata": {},
   "outputs": [
    {
     "name": "stdout",
     "output_type": "stream",
     "text": [
      "\u001b[38;5;2m✔ Download and installation successful\u001b[0m\n",
      "You can now load the package via spacy.load('en_core_web_sm')\n"
     ]
    },
    {
     "name": "stderr",
     "output_type": "stream",
     "text": [
      "/usr/local/lib/python3.8/site-packages/spacy/pipeline/lemmatizer.py:211: UserWarning: [W108] The rule-based lemmatizer did not find POS annotation for one or more tokens. Check that your pipeline includes components that assign token.pos, typically 'tagger'+'attribute_ruler' or 'morphologizer'.\n",
      "  warnings.warn(Warnings.W108)\n"
     ]
    }
   ],
   "source": [
    "import spacy #load spacy\n",
    "from spacy.cli.download import download\n",
    "download(model=\"en_core_web_sm\")\n",
    "\n",
    "nlp = spacy.load(\"en_core_web_sm\", disable=['parser', 'tagger', 'ner'])\n",
    "stops = nlp.Defaults.stop_words\n",
    "\n",
    "\n",
    "def normalize(comment, lowercase, remove_stopwords):\n",
    "    if lowercase:\n",
    "        comment = comment.lower()\n",
    "    comment = nlp(comment)\n",
    "    lemmatized = list()\n",
    "    for word in comment:\n",
    "        lemma = word.lemma_.strip()\n",
    "        if lemma:\n",
    "            if not remove_stopwords or (remove_stopwords and lemma not in stops):\n",
    "                lemmatized.append(lemma)\n",
    "    return \" \".join(lemmatized)\n",
    "\n",
    "\n",
    "dataset['cleaned_body'] = dataset['body'].astype(str).apply(normalize, lowercase=True, remove_stopwords=True)\n",
    "dataset['cleaned_title'] = dataset['title'].astype(str).apply(normalize, lowercase=True, remove_stopwords=True)"
   ]
  },
  {
   "cell_type": "code",
   "execution_count": 326,
   "metadata": {},
   "outputs": [],
   "source": [
    "dataset = dataset.dropna()"
   ]
  },
  {
   "cell_type": "code",
   "execution_count": 327,
   "metadata": {},
   "outputs": [
    {
     "data": {
      "text/plain": [
       "Unnamed: 0                                                       0\n",
       "title            Post viral cough: why does it get worse after ...\n",
       "body             Tl;dr: why is your cough during an upper respi...\n",
       "tag                                                     Human Body\n",
       "datetime                                       2022-12-09 02:52:07\n",
       "author                                          CarboniferousCreek\n",
       "score                                                     1,343.00\n",
       "upvote_ratio                                                  0.93\n",
       "url              https://www.reddit.com/r/askscience/comments/z...\n",
       "cleaned_body     tl;dr : cough upper respiratory infection bad ...\n",
       "cleaned_title                    post viral cough : worse better ?\n",
       "Name: 0, dtype: object"
      ]
     },
     "execution_count": 327,
     "metadata": {},
     "output_type": "execute_result"
    }
   ],
   "source": [
    "dataset.iloc[0]"
   ]
  },
  {
   "cell_type": "code",
   "execution_count": 328,
   "metadata": {},
   "outputs": [],
   "source": [
    "dataset['datetime'] = pd.to_datetime(dataset['datetime'], errors='coerce')"
   ]
  },
  {
   "cell_type": "code",
   "execution_count": 329,
   "metadata": {},
   "outputs": [],
   "source": [
    "dataset['day_of_week'] = dataset['datetime'].dt.day_name()"
   ]
  },
  {
   "cell_type": "code",
   "execution_count": 330,
   "metadata": {},
   "outputs": [],
   "source": [
    "dataset['hour'] = dataset['datetime'].dt.hour"
   ]
  },
  {
   "cell_type": "code",
   "execution_count": 331,
   "metadata": {},
   "outputs": [],
   "source": [
    "dataset['body_len'] = dataset['body'].str.len()\n",
    "dataset['title_len'] = dataset['title'].str.len()"
   ]
  },
  {
   "cell_type": "code",
   "execution_count": 332,
   "metadata": {},
   "outputs": [
    {
     "data": {
      "text/plain": [
       "Unnamed: 0                                                       0\n",
       "title            Post viral cough: why does it get worse after ...\n",
       "body             Tl;dr: why is your cough during an upper respi...\n",
       "tag                                                     Human Body\n",
       "datetime                                       2022-12-09 02:52:07\n",
       "author                                          CarboniferousCreek\n",
       "score                                                     1,343.00\n",
       "upvote_ratio                                                  0.93\n",
       "url              https://www.reddit.com/r/askscience/comments/z...\n",
       "cleaned_body     tl;dr : cough upper respiratory infection bad ...\n",
       "cleaned_title                    post viral cough : worse better ?\n",
       "day_of_week                                                 Friday\n",
       "hour                                                             2\n",
       "body_len                                                      1544\n",
       "title_len                                                       61\n",
       "Name: 0, dtype: object"
      ]
     },
     "execution_count": 332,
     "metadata": {},
     "output_type": "execute_result"
    }
   ],
   "source": [
    "dataset.iloc[0]"
   ]
  },
  {
   "cell_type": "code",
   "execution_count": 333,
   "metadata": {},
   "outputs": [
    {
     "data": {
      "text/plain": [
       "29"
      ]
     },
     "execution_count": 333,
     "metadata": {},
     "output_type": "execute_result"
    }
   ],
   "source": [
    "unique_tags = dataset['tag'].unique()\n",
    "len(unique_tags)"
   ]
  },
  {
   "cell_type": "code",
   "execution_count": 334,
   "metadata": {},
   "outputs": [
    {
     "data": {
      "text/plain": [
       "2129"
      ]
     },
     "execution_count": 334,
     "metadata": {},
     "output_type": "execute_result"
    }
   ],
   "source": [
    "unique_authors = dataset['author'].unique()\n",
    "len(unique_authors)"
   ]
  },
  {
   "cell_type": "code",
   "execution_count": 335,
   "metadata": {},
   "outputs": [],
   "source": [
    "import pandas as pd\n",
    "\n",
    "dataset['tag'] = pd.Categorical(dataset.tag)\n",
    "dataset['author'] = pd.Categorical(dataset.author)\n",
    "dataset['day_of_week'] = pd.Categorical(dataset.day_of_week)"
   ]
  },
  {
   "cell_type": "code",
   "execution_count": 336,
   "metadata": {},
   "outputs": [
    {
     "name": "stdout",
     "output_type": "stream",
     "text": [
      "<class 'pandas.core.frame.DataFrame'>\n",
      "Int64Index: 2344 entries, 0 to 4203\n",
      "Data columns (total 15 columns):\n",
      " #   Column         Non-Null Count  Dtype         \n",
      "---  ------         --------------  -----         \n",
      " 0   Unnamed: 0     2344 non-null   int64         \n",
      " 1   title          2344 non-null   object        \n",
      " 2   body           2344 non-null   object        \n",
      " 3   tag            2344 non-null   category      \n",
      " 4   datetime       2344 non-null   datetime64[ns]\n",
      " 5   author         2344 non-null   category      \n",
      " 6   score          2344 non-null   float64       \n",
      " 7   upvote_ratio   2344 non-null   float64       \n",
      " 8   url            2344 non-null   object        \n",
      " 9   cleaned_body   2344 non-null   object        \n",
      " 10  cleaned_title  2344 non-null   object        \n",
      " 11  day_of_week    2344 non-null   category      \n",
      " 12  hour           2344 non-null   int64         \n",
      " 13  body_len       2344 non-null   int64         \n",
      " 14  title_len      2344 non-null   int64         \n",
      "dtypes: category(3), datetime64[ns](1), float64(2), int64(4), object(5)\n",
      "memory usage: 345.7+ KB\n"
     ]
    }
   ],
   "source": [
    "dataset.info()"
   ]
  },
  {
   "cell_type": "code",
   "execution_count": 337,
   "metadata": {},
   "outputs": [
    {
     "data": {
      "text/html": [
       "<div>\n",
       "<style scoped>\n",
       "    .dataframe tbody tr th:only-of-type {\n",
       "        vertical-align: middle;\n",
       "    }\n",
       "\n",
       "    .dataframe tbody tr th {\n",
       "        vertical-align: top;\n",
       "    }\n",
       "\n",
       "    .dataframe thead th {\n",
       "        text-align: right;\n",
       "    }\n",
       "</style>\n",
       "<table border=\"1\" class=\"dataframe\">\n",
       "  <thead>\n",
       "    <tr style=\"text-align: right;\">\n",
       "      <th></th>\n",
       "      <th>Unnamed: 0</th>\n",
       "      <th>title</th>\n",
       "      <th>body</th>\n",
       "      <th>tag</th>\n",
       "      <th>datetime</th>\n",
       "      <th>author</th>\n",
       "      <th>score</th>\n",
       "      <th>upvote_ratio</th>\n",
       "      <th>url</th>\n",
       "      <th>cleaned_body</th>\n",
       "      <th>cleaned_title</th>\n",
       "      <th>day_of_week</th>\n",
       "      <th>hour</th>\n",
       "      <th>body_len</th>\n",
       "      <th>title_len</th>\n",
       "    </tr>\n",
       "  </thead>\n",
       "  <tbody>\n",
       "    <tr>\n",
       "      <th>0</th>\n",
       "      <td>0</td>\n",
       "      <td>Post viral cough: why does it get worse after ...</td>\n",
       "      <td>Tl;dr: why is your cough during an upper respi...</td>\n",
       "      <td>Human Body</td>\n",
       "      <td>2022-12-09 02:52:07</td>\n",
       "      <td>CarboniferousCreek</td>\n",
       "      <td>1,343.00</td>\n",
       "      <td>0.93</td>\n",
       "      <td>https://www.reddit.com/r/askscience/comments/z...</td>\n",
       "      <td>tl;dr : cough upper respiratory infection bad ...</td>\n",
       "      <td>post viral cough : worse better ?</td>\n",
       "      <td>Friday</td>\n",
       "      <td>2</td>\n",
       "      <td>1544</td>\n",
       "      <td>61</td>\n",
       "    </tr>\n",
       "    <tr>\n",
       "      <th>1</th>\n",
       "      <td>1</td>\n",
       "      <td>Can an x-ray of an adult show chronic malnouri...</td>\n",
       "      <td>If a person was chronically undernourished thr...</td>\n",
       "      <td>Human Body</td>\n",
       "      <td>2022-12-08 18:28:51</td>\n",
       "      <td>Foxs-In-A-Trenchcoat</td>\n",
       "      <td>426.00</td>\n",
       "      <td>0.91</td>\n",
       "      <td>https://www.reddit.com/r/askscience/comments/z...</td>\n",
       "      <td>person chronically undernourished childhood , ...</td>\n",
       "      <td>x - ray adult chronic malnourishment childhood ?</td>\n",
       "      <td>Thursday</td>\n",
       "      <td>18</td>\n",
       "      <td>241</td>\n",
       "      <td>66</td>\n",
       "    </tr>\n",
       "    <tr>\n",
       "      <th>2</th>\n",
       "      <td>2</td>\n",
       "      <td>[META] Bots and AI tools on r/askscience</td>\n",
       "      <td>\\n\\nOver the past few days we have seen a sur...</td>\n",
       "      <td>META</td>\n",
       "      <td>2022-12-08 09:04:25</td>\n",
       "      <td>AskScienceModerator</td>\n",
       "      <td>2,218.00</td>\n",
       "      <td>0.92</td>\n",
       "      <td>https://www.reddit.com/r/askscience/comments/z...</td>\n",
       "      <td>past days seen surge accounts bots / ai tools ...</td>\n",
       "      <td>[ meta ] bots ai tools r / askscience</td>\n",
       "      <td>Thursday</td>\n",
       "      <td>9</td>\n",
       "      <td>522</td>\n",
       "      <td>40</td>\n",
       "    </tr>\n",
       "    <tr>\n",
       "      <th>3</th>\n",
       "      <td>3</td>\n",
       "      <td>Can you predictably manipulate a magnetic gas?</td>\n",
       "      <td>Does there exist a gas that changes in respons...</td>\n",
       "      <td>Physics</td>\n",
       "      <td>2022-12-08 20:01:53</td>\n",
       "      <td>hufsa7</td>\n",
       "      <td>48.00</td>\n",
       "      <td>0.83</td>\n",
       "      <td>https://www.reddit.com/r/askscience/comments/z...</td>\n",
       "      <td>exist gas changes response magnetic fields sur...</td>\n",
       "      <td>predictably manipulate magnetic gas ?</td>\n",
       "      <td>Thursday</td>\n",
       "      <td>20</td>\n",
       "      <td>547</td>\n",
       "      <td>46</td>\n",
       "    </tr>\n",
       "    <tr>\n",
       "      <th>6</th>\n",
       "      <td>6</td>\n",
       "      <td>Why are there carnivores plants?</td>\n",
       "      <td>Why did carnivores plants evolve? They take ni...</td>\n",
       "      <td>Biology</td>\n",
       "      <td>2022-12-09 13:06:01</td>\n",
       "      <td>rahul1739</td>\n",
       "      <td>0.00</td>\n",
       "      <td>0.50</td>\n",
       "      <td>https://www.reddit.com/r/askscience/comments/z...</td>\n",
       "      <td>carnivores plants evolve ? nitrogen insects tr...</td>\n",
       "      <td>carnivores plants ?</td>\n",
       "      <td>Friday</td>\n",
       "      <td>13</td>\n",
       "      <td>232</td>\n",
       "      <td>32</td>\n",
       "    </tr>\n",
       "  </tbody>\n",
       "</table>\n",
       "</div>"
      ],
      "text/plain": [
       "   Unnamed: 0                                              title  \\\n",
       "0           0  Post viral cough: why does it get worse after ...   \n",
       "1           1  Can an x-ray of an adult show chronic malnouri...   \n",
       "2           2           [META] Bots and AI tools on r/askscience   \n",
       "3           3     Can you predictably manipulate a magnetic gas?   \n",
       "6           6                   Why are there carnivores plants?   \n",
       "\n",
       "                                                body         tag  \\\n",
       "0  Tl;dr: why is your cough during an upper respi...  Human Body   \n",
       "1  If a person was chronically undernourished thr...  Human Body   \n",
       "2   \\n\\nOver the past few days we have seen a sur...        META   \n",
       "3  Does there exist a gas that changes in respons...     Physics   \n",
       "6  Why did carnivores plants evolve? They take ni...     Biology   \n",
       "\n",
       "             datetime                author    score  upvote_ratio  \\\n",
       "0 2022-12-09 02:52:07    CarboniferousCreek 1,343.00          0.93   \n",
       "1 2022-12-08 18:28:51  Foxs-In-A-Trenchcoat   426.00          0.91   \n",
       "2 2022-12-08 09:04:25   AskScienceModerator 2,218.00          0.92   \n",
       "3 2022-12-08 20:01:53                hufsa7    48.00          0.83   \n",
       "6 2022-12-09 13:06:01             rahul1739     0.00          0.50   \n",
       "\n",
       "                                                 url  \\\n",
       "0  https://www.reddit.com/r/askscience/comments/z...   \n",
       "1  https://www.reddit.com/r/askscience/comments/z...   \n",
       "2  https://www.reddit.com/r/askscience/comments/z...   \n",
       "3  https://www.reddit.com/r/askscience/comments/z...   \n",
       "6  https://www.reddit.com/r/askscience/comments/z...   \n",
       "\n",
       "                                        cleaned_body  \\\n",
       "0  tl;dr : cough upper respiratory infection bad ...   \n",
       "1  person chronically undernourished childhood , ...   \n",
       "2  past days seen surge accounts bots / ai tools ...   \n",
       "3  exist gas changes response magnetic fields sur...   \n",
       "6  carnivores plants evolve ? nitrogen insects tr...   \n",
       "\n",
       "                                      cleaned_title day_of_week  hour  \\\n",
       "0                 post viral cough : worse better ?      Friday     2   \n",
       "1  x - ray adult chronic malnourishment childhood ?    Thursday    18   \n",
       "2             [ meta ] bots ai tools r / askscience    Thursday     9   \n",
       "3             predictably manipulate magnetic gas ?    Thursday    20   \n",
       "6                               carnivores plants ?      Friday    13   \n",
       "\n",
       "   body_len  title_len  \n",
       "0      1544         61  \n",
       "1       241         66  \n",
       "2       522         40  \n",
       "3       547         46  \n",
       "6       232         32  "
      ]
     },
     "execution_count": 337,
     "metadata": {},
     "output_type": "execute_result"
    }
   ],
   "source": [
    "dataset.head()"
   ]
  },
  {
   "cell_type": "code",
   "execution_count": 338,
   "metadata": {},
   "outputs": [],
   "source": [
    "from sklearn.compose import make_column_transformer\n",
    "from sklearn.preprocessing import RobustScaler\n",
    "from sklearn.preprocessing import OneHotEncoder\n",
    "\n",
    "dataset = dataset[['tag', 'hour', 'day_of_week', 'upvote_ratio', 'body_len', 'title_len']]\n",
    "categorical_columns = ['tag', 'hour', 'day_of_week']\n",
    "numerical_columns = ['score', 'body_len', 'title_len']\n",
    "\n",
    "for cat_col in categorical_columns:\n",
    "    # Get one hot encoding of columns \n",
    "    one_hot = pd.get_dummies(dataset[cat_col])\n",
    "    # Drop column B as it is now encoded\n",
    "    dataset = dataset.drop(cat_col,axis = 1)\n",
    "    # Join the encoded df\n",
    "    dataset = dataset.join(one_hot)"
   ]
  },
  {
   "cell_type": "code",
   "execution_count": 339,
   "metadata": {},
   "outputs": [
    {
     "name": "stdout",
     "output_type": "stream",
     "text": [
      "<class 'pandas.core.frame.DataFrame'>\n",
      "Int64Index: 2344 entries, 0 to 4203\n",
      "Data columns (total 63 columns):\n",
      " #   Column                       Non-Null Count  Dtype  \n",
      "---  ------                       --------------  -----  \n",
      " 0   upvote_ratio                 2344 non-null   float64\n",
      " 1   body_len                     2344 non-null   int64  \n",
      " 2   title_len                    2344 non-null   int64  \n",
      " 3     Linguistics                2344 non-null   uint8  \n",
      " 4   Anthropology                 2344 non-null   uint8  \n",
      " 5   Archaeology                  2344 non-null   uint8  \n",
      " 6   Astronomy                    2344 non-null   uint8  \n",
      " 7   Biology                      2344 non-null   uint8  \n",
      " 8   CERN AMA                     2344 non-null   uint8  \n",
      " 9   COVID-19                     2344 non-null   uint8  \n",
      " 10  Chemistry                    2344 non-null   uint8  \n",
      " 11  Computing                    2344 non-null   uint8  \n",
      " 12  Dog Cognition AMA            2344 non-null   uint8  \n",
      " 13  Earth Sciences               2344 non-null   uint8  \n",
      " 14  Economics                    2344 non-null   uint8  \n",
      " 15  Engineering                  2344 non-null   uint8  \n",
      " 16  First image of a black hole  2344 non-null   uint8  \n",
      " 17  Human Body                   2344 non-null   uint8  \n",
      " 18  Interdisciplinary            2344 non-null   uint8  \n",
      " 19  Linguistics                  2344 non-null   uint8  \n",
      " 20  META                         2344 non-null   uint8  \n",
      " 21  Materials Science            2344 non-null   uint8  \n",
      " 22  Mathematics                  2344 non-null   uint8  \n",
      " 23  Medicine                     2344 non-null   uint8  \n",
      " 24  Meta                         2344 non-null   uint8  \n",
      " 25  Neuroscience                 2344 non-null   uint8  \n",
      " 26  Paleontology                 2344 non-null   uint8  \n",
      " 27  Physics                      2344 non-null   uint8  \n",
      " 28  Planetary Sci.               2344 non-null   uint8  \n",
      " 29  Political Science            2344 non-null   uint8  \n",
      " 30  Psychology                   2344 non-null   uint8  \n",
      " 31  Social Science               2344 non-null   uint8  \n",
      " 32  0                            2344 non-null   uint8  \n",
      " 33  1                            2344 non-null   uint8  \n",
      " 34  2                            2344 non-null   uint8  \n",
      " 35  3                            2344 non-null   uint8  \n",
      " 36  4                            2344 non-null   uint8  \n",
      " 37  5                            2344 non-null   uint8  \n",
      " 38  6                            2344 non-null   uint8  \n",
      " 39  7                            2344 non-null   uint8  \n",
      " 40  8                            2344 non-null   uint8  \n",
      " 41  9                            2344 non-null   uint8  \n",
      " 42  10                           2344 non-null   uint8  \n",
      " 43  11                           2344 non-null   uint8  \n",
      " 44  12                           2344 non-null   uint8  \n",
      " 45  13                           2344 non-null   uint8  \n",
      " 46  14                           2344 non-null   uint8  \n",
      " 47  15                           2344 non-null   uint8  \n",
      " 48  16                           2344 non-null   uint8  \n",
      " 49  17                           2344 non-null   uint8  \n",
      " 50  18                           2344 non-null   uint8  \n",
      " 51  19                           2344 non-null   uint8  \n",
      " 52  20                           2344 non-null   uint8  \n",
      " 53  21                           2344 non-null   uint8  \n",
      " 54  22                           2344 non-null   uint8  \n",
      " 55  23                           2344 non-null   uint8  \n",
      " 56  Friday                       2344 non-null   uint8  \n",
      " 57  Monday                       2344 non-null   uint8  \n",
      " 58  Saturday                     2344 non-null   uint8  \n",
      " 59  Sunday                       2344 non-null   uint8  \n",
      " 60  Thursday                     2344 non-null   uint8  \n",
      " 61  Tuesday                      2344 non-null   uint8  \n",
      " 62  Wednesday                    2344 non-null   uint8  \n",
      "dtypes: float64(1), int64(2), uint8(60)\n",
      "memory usage: 290.6 KB\n"
     ]
    }
   ],
   "source": [
    "dataset.info()"
   ]
  },
  {
   "cell_type": "code",
   "execution_count": 340,
   "metadata": {},
   "outputs": [
    {
     "data": {
      "text/html": [
       "<div>\n",
       "<style scoped>\n",
       "    .dataframe tbody tr th:only-of-type {\n",
       "        vertical-align: middle;\n",
       "    }\n",
       "\n",
       "    .dataframe tbody tr th {\n",
       "        vertical-align: top;\n",
       "    }\n",
       "\n",
       "    .dataframe thead th {\n",
       "        text-align: right;\n",
       "    }\n",
       "</style>\n",
       "<table border=\"1\" class=\"dataframe\">\n",
       "  <thead>\n",
       "    <tr style=\"text-align: right;\">\n",
       "      <th></th>\n",
       "      <th>upvote_ratio</th>\n",
       "      <th>body_len</th>\n",
       "      <th>title_len</th>\n",
       "      <th>Linguistics</th>\n",
       "      <th>Anthropology</th>\n",
       "      <th>Archaeology</th>\n",
       "      <th>Astronomy</th>\n",
       "      <th>Biology</th>\n",
       "      <th>CERN AMA</th>\n",
       "      <th>COVID-19</th>\n",
       "      <th>...</th>\n",
       "      <th>21</th>\n",
       "      <th>22</th>\n",
       "      <th>23</th>\n",
       "      <th>Friday</th>\n",
       "      <th>Monday</th>\n",
       "      <th>Saturday</th>\n",
       "      <th>Sunday</th>\n",
       "      <th>Thursday</th>\n",
       "      <th>Tuesday</th>\n",
       "      <th>Wednesday</th>\n",
       "    </tr>\n",
       "  </thead>\n",
       "  <tbody>\n",
       "    <tr>\n",
       "      <th>0</th>\n",
       "      <td>0.93</td>\n",
       "      <td>1544</td>\n",
       "      <td>61</td>\n",
       "      <td>0</td>\n",
       "      <td>0</td>\n",
       "      <td>0</td>\n",
       "      <td>0</td>\n",
       "      <td>0</td>\n",
       "      <td>0</td>\n",
       "      <td>0</td>\n",
       "      <td>...</td>\n",
       "      <td>0</td>\n",
       "      <td>0</td>\n",
       "      <td>0</td>\n",
       "      <td>1</td>\n",
       "      <td>0</td>\n",
       "      <td>0</td>\n",
       "      <td>0</td>\n",
       "      <td>0</td>\n",
       "      <td>0</td>\n",
       "      <td>0</td>\n",
       "    </tr>\n",
       "    <tr>\n",
       "      <th>1</th>\n",
       "      <td>0.91</td>\n",
       "      <td>241</td>\n",
       "      <td>66</td>\n",
       "      <td>0</td>\n",
       "      <td>0</td>\n",
       "      <td>0</td>\n",
       "      <td>0</td>\n",
       "      <td>0</td>\n",
       "      <td>0</td>\n",
       "      <td>0</td>\n",
       "      <td>...</td>\n",
       "      <td>0</td>\n",
       "      <td>0</td>\n",
       "      <td>0</td>\n",
       "      <td>0</td>\n",
       "      <td>0</td>\n",
       "      <td>0</td>\n",
       "      <td>0</td>\n",
       "      <td>1</td>\n",
       "      <td>0</td>\n",
       "      <td>0</td>\n",
       "    </tr>\n",
       "    <tr>\n",
       "      <th>2</th>\n",
       "      <td>0.92</td>\n",
       "      <td>522</td>\n",
       "      <td>40</td>\n",
       "      <td>0</td>\n",
       "      <td>0</td>\n",
       "      <td>0</td>\n",
       "      <td>0</td>\n",
       "      <td>0</td>\n",
       "      <td>0</td>\n",
       "      <td>0</td>\n",
       "      <td>...</td>\n",
       "      <td>0</td>\n",
       "      <td>0</td>\n",
       "      <td>0</td>\n",
       "      <td>0</td>\n",
       "      <td>0</td>\n",
       "      <td>0</td>\n",
       "      <td>0</td>\n",
       "      <td>1</td>\n",
       "      <td>0</td>\n",
       "      <td>0</td>\n",
       "    </tr>\n",
       "    <tr>\n",
       "      <th>3</th>\n",
       "      <td>0.83</td>\n",
       "      <td>547</td>\n",
       "      <td>46</td>\n",
       "      <td>0</td>\n",
       "      <td>0</td>\n",
       "      <td>0</td>\n",
       "      <td>0</td>\n",
       "      <td>0</td>\n",
       "      <td>0</td>\n",
       "      <td>0</td>\n",
       "      <td>...</td>\n",
       "      <td>0</td>\n",
       "      <td>0</td>\n",
       "      <td>0</td>\n",
       "      <td>0</td>\n",
       "      <td>0</td>\n",
       "      <td>0</td>\n",
       "      <td>0</td>\n",
       "      <td>1</td>\n",
       "      <td>0</td>\n",
       "      <td>0</td>\n",
       "    </tr>\n",
       "    <tr>\n",
       "      <th>6</th>\n",
       "      <td>0.50</td>\n",
       "      <td>232</td>\n",
       "      <td>32</td>\n",
       "      <td>0</td>\n",
       "      <td>0</td>\n",
       "      <td>0</td>\n",
       "      <td>0</td>\n",
       "      <td>1</td>\n",
       "      <td>0</td>\n",
       "      <td>0</td>\n",
       "      <td>...</td>\n",
       "      <td>0</td>\n",
       "      <td>0</td>\n",
       "      <td>0</td>\n",
       "      <td>1</td>\n",
       "      <td>0</td>\n",
       "      <td>0</td>\n",
       "      <td>0</td>\n",
       "      <td>0</td>\n",
       "      <td>0</td>\n",
       "      <td>0</td>\n",
       "    </tr>\n",
       "  </tbody>\n",
       "</table>\n",
       "<p>5 rows × 63 columns</p>\n",
       "</div>"
      ],
      "text/plain": [
       "   upvote_ratio  body_len  title_len    Linguistics  Anthropology  \\\n",
       "0          0.93      1544         61              0             0   \n",
       "1          0.91       241         66              0             0   \n",
       "2          0.92       522         40              0             0   \n",
       "3          0.83       547         46              0             0   \n",
       "6          0.50       232         32              0             0   \n",
       "\n",
       "   Archaeology  Astronomy  Biology  CERN AMA  COVID-19  ...  21  22  23  \\\n",
       "0            0          0        0         0         0  ...   0   0   0   \n",
       "1            0          0        0         0         0  ...   0   0   0   \n",
       "2            0          0        0         0         0  ...   0   0   0   \n",
       "3            0          0        0         0         0  ...   0   0   0   \n",
       "6            0          0        1         0         0  ...   0   0   0   \n",
       "\n",
       "   Friday  Monday  Saturday  Sunday  Thursday  Tuesday  Wednesday  \n",
       "0       1       0         0       0         0        0          0  \n",
       "1       0       0         0       0         1        0          0  \n",
       "2       0       0         0       0         1        0          0  \n",
       "3       0       0         0       0         1        0          0  \n",
       "6       1       0         0       0         0        0          0  \n",
       "\n",
       "[5 rows x 63 columns]"
      ]
     },
     "execution_count": 340,
     "metadata": {},
     "output_type": "execute_result"
    }
   ],
   "source": [
    "dataset.head()"
   ]
  },
  {
   "cell_type": "code",
   "execution_count": 341,
   "metadata": {},
   "outputs": [],
   "source": [
    "X = dataset.loc[:, dataset.columns != 'upvote_ratio']\n",
    "y = dataset['upvote_ratio']"
   ]
  },
  {
   "cell_type": "code",
   "execution_count": 342,
   "metadata": {},
   "outputs": [],
   "source": [
    "X_train, X_test, y_train, y_test = train_test_split(X, y, test_size=0.2, random_state=42)\n",
    "\n",
    "\n"
   ]
  },
  {
   "cell_type": "code",
   "execution_count": 343,
   "metadata": {},
   "outputs": [
    {
     "data": {
      "text/plain": [
       "RandomForestRegressor(max_depth=50, n_estimators=150, random_state=0)"
      ]
     },
     "execution_count": 343,
     "metadata": {},
     "output_type": "execute_result"
    }
   ],
   "source": [
    "rf_regr = RandomForestRegressor(max_depth=50, random_state=0, n_estimators = 150)\n",
    "rf_regr.fit(X_train, y_train)\n",
    "\n",
    "\n"
   ]
  },
  {
   "cell_type": "code",
   "execution_count": 344,
   "metadata": {},
   "outputs": [],
   "source": [
    "y_pred = rf_regr.predict(X_test)"
   ]
  },
  {
   "cell_type": "code",
   "execution_count": 345,
   "metadata": {},
   "outputs": [
    {
     "data": {
      "text/plain": [
       "0.172646931630282"
      ]
     },
     "execution_count": 345,
     "metadata": {},
     "output_type": "execute_result"
    }
   ],
   "source": [
    "from sklearn.metrics import r2_score, mean_squared_error\n",
    "\n",
    "mse = mean_squared_error(y_test, y_pred)\n",
    "rmse = np.sqrt(mse)\n",
    "rmse"
   ]
  },
  {
   "cell_type": "code",
   "execution_count": 346,
   "metadata": {},
   "outputs": [
    {
     "data": {
      "text/plain": [
       "0.02980696300135127"
      ]
     },
     "execution_count": 346,
     "metadata": {},
     "output_type": "execute_result"
    }
   ],
   "source": [
    "mse"
   ]
  },
  {
   "cell_type": "code",
   "execution_count": 347,
   "metadata": {},
   "outputs": [
    {
     "data": {
      "text/plain": [
       "array([2.29394366e-01, 2.12294765e-01, 1.07306072e-03, 6.62284863e-04,\n",
       "       5.14500895e-04, 1.21677330e-02, 1.66221764e-02, 2.11077191e-05,\n",
       "       1.48684754e-02, 1.10793779e-02, 5.92080354e-03, 0.00000000e+00,\n",
       "       1.18230923e-02, 1.95786663e-03, 8.04416436e-03, 2.20885793e-05,\n",
       "       1.65691028e-02, 1.27637613e-03, 1.69600028e-03, 6.72507402e-05,\n",
       "       2.41070222e-04, 1.74914053e-02, 1.22282398e-02, 9.87780677e-05,\n",
       "       6.05248109e-03, 2.49960539e-03, 1.75582110e-02, 6.28637712e-03,\n",
       "       6.20915557e-04, 9.49596518e-03, 7.86780191e-03, 3.63625742e-03,\n",
       "       6.84773233e-03, 7.50774399e-03, 1.12784915e-02, 1.13776095e-02,\n",
       "       1.27994804e-02, 1.03690755e-02, 1.26491332e-02, 1.33613577e-02,\n",
       "       1.21910218e-02, 1.39658161e-02, 1.39831232e-02, 9.61901585e-03,\n",
       "       1.35301832e-02, 1.08414090e-02, 8.96344275e-03, 9.80905785e-03,\n",
       "       8.48990625e-03, 8.44444491e-03, 1.27471942e-02, 7.82768905e-03,\n",
       "       1.17431168e-02, 9.74734448e-03, 1.15199876e-02, 1.64136124e-02,\n",
       "       1.59268576e-02, 1.70240387e-02, 1.63699110e-02, 1.94938641e-02,\n",
       "       1.73316126e-02, 1.76750260e-02])"
      ]
     },
     "execution_count": 347,
     "metadata": {},
     "output_type": "execute_result"
    }
   ],
   "source": [
    "rf_regr.feature_importances_"
   ]
  },
  {
   "cell_type": "code",
   "execution_count": 348,
   "metadata": {},
   "outputs": [],
   "source": [
    "feature_names = list(map(str, list(dataset.loc[:, dataset.columns != 'upvote_ratio'].columns)))"
   ]
  },
  {
   "cell_type": "code",
   "execution_count": 349,
   "metadata": {},
   "outputs": [
    {
     "data": {
      "text/plain": [
       "{'body_len': 0.229394365569026,\n",
       " 'title_len': 0.21229476456755805,\n",
       " 'Thursday': 0.01949386413943955,\n",
       " 'Wednesday': 0.0176750259741936,\n",
       " 'Physics': 0.017558211042623832,\n",
       " 'Mathematics': 0.017491405319224593,\n",
       " 'Tuesday': 0.017331612581846963,\n",
       " 'Saturday': 0.017024038715851383,\n",
       " 'Biology': 0.01662217635214312,\n",
       " 'Human Body': 0.016569102791483614,\n",
       " 'Friday': 0.0164136124040124,\n",
       " 'Sunday': 0.016369910988527667,\n",
       " 'Monday': 0.01592685759726453,\n",
       " 'COVID-19': 0.014868475378313116,\n",
       " '11': 0.013983123232507975,\n",
       " '10': 0.013965816081980413,\n",
       " '13': 0.01353018324453545,\n",
       " '8': 0.013361357709769017,\n",
       " '5': 0.01279948035933532,\n",
       " '19': 0.012747194231372352,\n",
       " '7': 0.012649133190113225,\n",
       " 'Medicine': 0.012228239808640623,\n",
       " '9': 0.012191021812280883,\n",
       " 'Astronomy': 0.01216773302169952,\n",
       " 'Earth Sciences': 0.011823092281313612,\n",
       " '21': 0.011743116823772066,\n",
       " '23': 0.011519987560678768,\n",
       " '4': 0.01137760948833967,\n",
       " '3': 0.011278491466556708,\n",
       " 'Chemistry': 0.01107937791447754,\n",
       " '14': 0.010841409018345327,\n",
       " '6': 0.010369075454741005,\n",
       " '16': 0.009809057854375134,\n",
       " '22': 0.009747344477449203,\n",
       " '12': 0.009619015846170219,\n",
       " 'Psychology': 0.009495965184496573,\n",
       " '15': 0.008963442747166482,\n",
       " '17': 0.008489906253445994,\n",
       " '18': 0.00844444490522712,\n",
       " 'Engineering': 0.008044164362830085,\n",
       " 'Social Science': 0.007867801910849745,\n",
       " '20': 0.007827689052020931,\n",
       " '2': 0.007507743990811323,\n",
       " '1': 0.00684773233395113,\n",
       " 'Planetary Sci.': 0.006286377119750106,\n",
       " 'Neuroscience': 0.006052481086001872,\n",
       " 'Computing': 0.0059208035394703335,\n",
       " '0': 0.0036362574167269957,\n",
       " 'Paleontology': 0.0024996053929495143,\n",
       " 'Economics': 0.0019578666343132516,\n",
       " 'Linguistics': 0.0016960002802188874,\n",
       " 'Interdisciplinary': 0.0012763761291271294,\n",
       " '  Linguistics': 0.0010730607180115092,\n",
       " 'Anthropology': 0.0006622848629764793,\n",
       " 'Political Science': 0.0006209155569889371,\n",
       " 'Archaeology': 0.0005145008948461319,\n",
       " 'Materials Science': 0.00024107022168292654,\n",
       " 'Meta': 9.877806769063879e-05,\n",
       " 'META': 6.725074015284828e-05,\n",
       " 'First image of a black hole': 2.208857927479944e-05,\n",
       " 'CERN AMA': 2.1107719055684224e-05,\n",
       " 'Dog Cognition AMA': 0.0}"
      ]
     },
     "execution_count": 349,
     "metadata": {},
     "output_type": "execute_result"
    }
   ],
   "source": [
    "feats = {} # a dict to hold feature_name: feature_importance\n",
    "for feature, importance in zip(feature_names, rf_regr.feature_importances_):\n",
    "    feats[feature] = importance #add the name/value pair \n",
    "    \n",
    "{k: v for k, v in sorted(feats.items(), key=lambda item: item[1], reverse=True)}"
   ]
  },
  {
   "cell_type": "markdown",
   "metadata": {},
   "source": [
    "upvote_ratio was used as a measure of how successful a post is. Since the value was in between [0,1] it looked like (upvotes/(upvotes+downvotes)) this ratio is risky because is 2/1 the same as 200/100 ? if that is not the worry then the approach works well. If the two ratios have different meanings then we can smooth out the data by adding the avg(upvotes) to numerator and avg(total_votes) to the denominator - a precursor of sorts to Bayesian. \n",
    "\n",
    "Attributes with high importance:\n",
    "1. The length of the body is the most important attribute\n",
    "2. Day of the week and hour at which it was posted plays a role\n",
    "3. Mathematics looks like a very popular tag"
   ]
  },
  {
   "cell_type": "markdown",
   "metadata": {},
   "source": [
    "More things to try out\n",
    "\n",
    "1. GloVe embeddings of all the words in the body and title\n",
    "2. Only tried RandomForest Regressor but can try Linear, KNN to compare and contrast\n",
    "3. POS tagging and number of positive and negative words in the body can help a lot too."
   ]
  },
  {
   "cell_type": "markdown",
   "metadata": {},
   "source": [
    "# a model that can predict the score of a post on r/askscience"
   ]
  },
  {
   "cell_type": "code",
   "execution_count": 278,
   "metadata": {},
   "outputs": [],
   "source": [
    "dataset = pandas.read_csv('askscience_data.csv')"
   ]
  },
  {
   "cell_type": "code",
   "execution_count": 279,
   "metadata": {},
   "outputs": [
    {
     "data": {
      "text/plain": [
       "Index(['Unnamed: 0', 'title', 'body', 'tag', 'datetime', 'author', 'score',\n",
       "       'upvote_ratio', 'url'],\n",
       "      dtype='object')"
      ]
     },
     "execution_count": 279,
     "metadata": {},
     "output_type": "execute_result"
    }
   ],
   "source": [
    "dataset.columns"
   ]
  },
  {
   "cell_type": "code",
   "execution_count": 280,
   "metadata": {},
   "outputs": [],
   "source": [
    "dataset = dataset.dropna()"
   ]
  },
  {
   "cell_type": "code",
   "execution_count": 281,
   "metadata": {},
   "outputs": [],
   "source": [
    "import scipy.sparse as sp\n",
    "\n",
    "vectorizer = CountVectorizer()\n",
    "title_vectorizer = vectorizer.fit_transform(dataset['title'])\n",
    "body_vectorizer = vectorizer.fit_transform(dataset['body'])\n",
    "\n",
    "title_vectorizer[0][0], tag_vectorizer[0][0]\n",
    "combined_title_body = sp.hstack([title_vectorizer, body_vectorizer], format='csr')"
   ]
  },
  {
   "cell_type": "code",
   "execution_count": 283,
   "metadata": {},
   "outputs": [],
   "source": [
    "X_train, X_test, y_train, y_test = train_test_split(combined_title_body, \n",
    "                                                    dataset['upvote_ratio'], test_size=0.2, random_state=42)"
   ]
  },
  {
   "cell_type": "code",
   "execution_count": 284,
   "metadata": {},
   "outputs": [
    {
     "data": {
      "text/plain": [
       "RandomForestRegressor(max_depth=50, n_estimators=150, random_state=0)"
      ]
     },
     "execution_count": 284,
     "metadata": {},
     "output_type": "execute_result"
    }
   ],
   "source": [
    "rf_regr = RandomForestRegressor(max_depth=50, random_state=0, n_estimators = 150)\n",
    "rf_regr.fit(X_train, y_train)"
   ]
  },
  {
   "cell_type": "code",
   "execution_count": 285,
   "metadata": {},
   "outputs": [
    {
     "data": {
      "text/plain": [
       "0.1801853590141011"
      ]
     },
     "execution_count": 285,
     "metadata": {},
     "output_type": "execute_result"
    }
   ],
   "source": [
    "from sklearn.metrics import r2_score, mean_squared_error\n",
    "\n",
    "mse = mean_squared_error(y_test, y_pred)\n",
    "rmse = np.sqrt(mse)\n",
    "rmse"
   ]
  },
  {
   "cell_type": "code",
   "execution_count": 286,
   "metadata": {},
   "outputs": [
    {
     "data": {
      "text/plain": [
       "array([0.86333333, 0.65293952, 0.73093333, 0.66053333, 0.78606667,\n",
       "       0.767     , 0.72166667, 0.80206667, 0.5408    , 0.74273333,\n",
       "       0.74911667, 0.7402    , 0.61653333, 0.69706667, 0.72166667,\n",
       "       0.76173333, 0.79890485, 0.84473333, 0.78033333, 0.78014286,\n",
       "       0.69726667, 0.59953333, 0.81053333, 0.8272    , 0.84757333,\n",
       "       0.78585556, 0.81752778, 0.79306667, 0.66733333, 0.639     ,\n",
       "       0.76313333, 0.62526667, 0.66746667, 0.64993333, 0.59713333,\n",
       "       0.79113333, 0.4924    , 0.82466667, 0.62246667, 0.6236    ,\n",
       "       0.77066667, 0.50546667, 0.75426667, 0.78821818, 0.79433333,\n",
       "       0.7772    , 0.65973333, 0.83406667, 0.76151667, 0.801     ,\n",
       "       0.75051   , 0.6402    , 0.545     , 0.70093333, 0.80586667,\n",
       "       0.69566667, 0.66266667, 0.75873333, 0.78666667, 0.75366667,\n",
       "       0.7346    , 0.77406667, 0.8101    , 0.5682    , 0.789175  ,\n",
       "       0.71042667, 0.8911746 , 0.84246667, 0.87266667, 0.753     ,\n",
       "       0.75293333, 0.726     , 0.7803    , 0.74470794, 0.576     ,\n",
       "       0.80903889, 0.67046667, 0.83      , 0.89853333, 0.72253333,\n",
       "       0.549     , 0.86106667, 0.77686667, 0.781     , 0.49986667,\n",
       "       0.7411746 , 0.85613333, 0.73126667, 0.6598    , 0.71033333,\n",
       "       0.66433333, 0.67573333, 0.84453333, 0.79586667, 0.81041905,\n",
       "       0.54273333, 0.63393333, 0.81266667, 0.82924127, 0.71106222,\n",
       "       0.81931111, 0.56066667, 0.73966667, 0.65106667, 0.69572222,\n",
       "       0.55013333, 0.82666667, 0.8326    , 0.78413333, 0.734     ,\n",
       "       0.6024    , 0.57573333, 0.81745   , 0.79333333, 0.625     ,\n",
       "       0.78493333, 0.7452    , 0.79021818, 0.6288    , 0.75513333,\n",
       "       0.80813333, 0.66677667, 0.62866667, 0.5104    , 0.6726    ,\n",
       "       0.82113333, 0.6822    , 0.80386667, 0.6786    , 0.7604    ,\n",
       "       0.84351111, 0.61326667, 0.61173333, 0.64606667, 0.7344    ,\n",
       "       0.78893333, 0.6508    , 0.75526667, 0.71893333, 0.74513333,\n",
       "       0.85520286, 0.7892    , 0.7986    , 0.78846667, 0.7162    ,\n",
       "       0.6276    , 0.8447746 , 0.7815    , 0.76838704, 0.6062    ,\n",
       "       0.82033333, 0.6312    , 0.80006667, 0.77313333, 0.756     ,\n",
       "       0.6126    , 0.81286667, 0.82912889, 0.7274    , 0.75293333,\n",
       "       0.76577667, 0.66726667, 0.70433333, 0.80306667, 0.7474    ,\n",
       "       0.72233333, 0.85303889, 0.661     , 0.86373333, 0.5654    ,\n",
       "       0.7518    , 0.7454    , 0.7178    , 0.73026667, 0.7706    ,\n",
       "       0.71126667, 0.7716    , 0.74259815, 0.72106667, 0.82010952,\n",
       "       0.8568    , 0.74566667, 0.80721333, 0.86346667, 0.56753333,\n",
       "       0.75266667, 0.53846667, 0.78966667, 0.7142    , 0.7493381 ,\n",
       "       0.77073333, 0.77966667, 0.7712    , 0.81912   , 0.71546667,\n",
       "       0.72913333, 0.805     , 0.7082    , 0.67166667, 0.76785556,\n",
       "       0.76153333, 0.70679286, 0.62026667, 0.75333333, 0.77013333,\n",
       "       0.7084    , 0.84086667, 0.80893333, 0.7366    , 0.77073333,\n",
       "       0.7562    , 0.81726667, 0.7566    , 0.75598333, 0.64733333,\n",
       "       0.75013333, 0.58433333, 0.73946667, 0.79766667, 0.6682    ,\n",
       "       0.90973333, 0.7028    , 0.6858    , 0.68786667, 0.84893333,\n",
       "       0.64973333, 0.76690833, 0.77513333, 0.80553333, 0.77713333,\n",
       "       0.83688333, 0.63033333, 0.67444444, 0.72263333, 0.60593333,\n",
       "       0.72993333, 0.74013333, 0.61493333, 0.78233333, 0.7918    ,\n",
       "       0.81053333, 0.72066667, 0.65913333, 0.6506    , 0.62433333,\n",
       "       0.7514    , 0.6944    , 0.5348    , 0.67266667, 0.74213333,\n",
       "       0.8002    , 0.85913333, 0.7856    , 0.821495  , 0.8242    ,\n",
       "       0.62353333, 0.84493333, 0.69844127, 0.61573333, 0.66866667,\n",
       "       0.78771407, 0.82473333, 0.72926667, 0.82886667, 0.51526667,\n",
       "       0.71066667, 0.7388    , 0.81948485, 0.78193333, 0.70146667,\n",
       "       0.83213333, 0.7112    , 0.79785   , 0.78375152, 0.8792    ,\n",
       "       0.747825  , 0.82686667, 0.87511667, 0.69353333, 0.72686667,\n",
       "       0.67153333, 0.62753333, 0.75126667, 0.69477667, 0.80188889,\n",
       "       0.747     , 0.77146667, 0.69229167, 0.5342    , 0.62322667,\n",
       "       0.52933333, 0.783     , 0.73233333, 0.59326667, 0.70253333,\n",
       "       0.81496032, 0.81426667, 0.9236    , 0.7816    , 0.8183746 ,\n",
       "       0.83546667, 0.6736    , 0.72      , 0.70593333, 0.77956667,\n",
       "       0.81366667, 0.71766667, 0.72906667, 0.7898    , 0.69293333,\n",
       "       0.65481481, 0.70773333, 0.6794    , 0.54066667, 0.609     ,\n",
       "       0.9042    , 0.70434074, 0.8568    , 0.70353333, 0.75118889,\n",
       "       0.74033333, 0.7304    , 0.82439394, 0.69233333, 0.60346667,\n",
       "       0.75053333, 0.65493333, 0.75498889, 0.7474    , 0.77643333,\n",
       "       0.75272222, 0.7832    , 0.77466667, 0.6096    , 0.80486667,\n",
       "       0.75553333, 0.75966667, 0.7328    , 0.77364333, 0.83173333,\n",
       "       0.60046667, 0.83313333, 0.6425    , 0.83665333, 0.6332    ,\n",
       "       0.72833333, 0.8343    , 0.69046667, 0.755     , 0.79597619,\n",
       "       0.72533333, 0.81693333, 0.70426667, 0.7514    , 0.75730794,\n",
       "       0.8548    , 0.78915   , 0.7625    , 0.7594    , 0.72453333,\n",
       "       0.80246667, 0.7878    , 0.77313333, 0.78933333, 0.70633333,\n",
       "       0.81146667, 0.8232    , 0.76811944, 0.73805556, 0.68433333,\n",
       "       0.7472    , 0.731     , 0.76021574, 0.72105   , 0.84986667,\n",
       "       0.62613333, 0.65606667, 0.67013333, 0.79653333, 0.764     ,\n",
       "       0.87693333, 0.70573333, 0.76573333, 0.7264    , 0.6422    ,\n",
       "       0.80273333, 0.71833333, 0.81706667, 0.62553333, 0.76038148,\n",
       "       0.69373333, 0.74286667, 0.7836    , 0.74546667, 0.69416   ,\n",
       "       0.807     , 0.744     , 0.69873333, 0.78182111, 0.6854    ,\n",
       "       0.6966    , 0.78153333, 0.7142    , 0.64432222, 0.5704    ,\n",
       "       0.7192    , 0.79233333, 0.50953333, 0.76926667, 0.5946    ,\n",
       "       0.75026667, 0.74153333, 0.87207778, 0.69213333, 0.737     ,\n",
       "       0.81373333, 0.65302778, 0.65853333, 0.82586667, 0.7434    ,\n",
       "       0.77386667, 0.77102727, 0.68793333, 0.78148889, 0.84264286,\n",
       "       0.7724    , 0.6588    , 0.7102    , 0.72913333, 0.73      ,\n",
       "       0.78953333, 0.75437333, 0.81184   , 0.75853333, 0.6964    ,\n",
       "       0.6941    , 0.80253333, 0.71538333, 0.7264    , 0.72433333,\n",
       "       0.58753333, 0.79126667, 0.69533333, 0.65885556, 0.64493333,\n",
       "       0.73346667, 0.84353333, 0.68306667, 0.78046667, 0.54106667,\n",
       "       0.7682    , 0.79708333, 0.73266667, 0.7666    , 0.7637    ,\n",
       "       0.80766667, 0.60626667, 0.71591   , 0.72278148, 0.72893333,\n",
       "       0.82506667, 0.54333333, 0.75688889, 0.84813333, 0.79757778,\n",
       "       0.48666667, 0.7614    , 0.77286667, 0.78246667])"
      ]
     },
     "execution_count": 286,
     "metadata": {},
     "output_type": "execute_result"
    }
   ],
   "source": [
    "y_pred"
   ]
  },
  {
   "cell_type": "markdown",
   "metadata": {},
   "source": [
    "Depending on how complex and big the data is, can also use LSTM"
   ]
  }
 ],
 "metadata": {
  "kernelspec": {
   "display_name": "Python 3",
   "language": "python",
   "name": "python3"
  },
  "language_info": {
   "codemirror_mode": {
    "name": "ipython",
    "version": 3
   },
   "file_extension": ".py",
   "mimetype": "text/x-python",
   "name": "python",
   "nbconvert_exporter": "python",
   "pygments_lexer": "ipython3",
   "version": "3.8.5"
  }
 },
 "nbformat": 4,
 "nbformat_minor": 4
}
